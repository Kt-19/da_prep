{
 "cells": [
  {
   "cell_type": "code",
   "execution_count": 2,
   "id": "176a4f57",
   "metadata": {},
   "outputs": [
    {
     "data": {
      "application/vnd.microsoft.datawrangler.viewer.v0+json": {
       "columns": [
        {
         "name": "index",
         "rawType": "int64",
         "type": "integer"
        },
        {
         "name": "Flavor",
         "rawType": "object",
         "type": "string"
        },
        {
         "name": "Base Flavor",
         "rawType": "object",
         "type": "string"
        },
        {
         "name": "Liked",
         "rawType": "object",
         "type": "string"
        },
        {
         "name": "Flavor Rating",
         "rawType": "float64",
         "type": "float"
        },
        {
         "name": "Texture Rating",
         "rawType": "float64",
         "type": "float"
        },
        {
         "name": "Total Rating",
         "rawType": "float64",
         "type": "float"
        }
       ],
       "ref": "b12172f0-98e3-4eba-93d6-60ef43658108",
       "rows": [
        [
         "0",
         "Mint Chocolate Chip",
         "Vanilla",
         "Yes",
         "10.0",
         "8.0",
         "18.0"
        ],
        [
         "1",
         "Chocolate",
         "Chocolate",
         "Yes",
         "8.8",
         "7.6",
         "16.6"
        ],
        [
         "2",
         "Vanilla",
         "Vanilla",
         "No",
         "4.7",
         "5.0",
         "9.7"
        ],
        [
         "3",
         "Cookie Dough",
         "Vanilla",
         "Yes",
         "6.9",
         "6.5",
         "13.4"
        ],
        [
         "4",
         "Rocky Road",
         "Chocolate",
         "Yes",
         "8.2",
         "7.0",
         "15.2"
        ],
        [
         "5",
         "Pistachio",
         "Vanilla",
         "No",
         "2.3",
         "3.4",
         "5.7"
        ],
        [
         "6",
         "Cake Batter",
         "Vanilla",
         "Yes",
         "6.5",
         "6.0",
         "12.5"
        ],
        [
         "7",
         "Neapolitan",
         "Vanilla",
         "No",
         "3.8",
         "5.0",
         "8.8"
        ],
        [
         "8",
         "Chocolte Fudge Brownie",
         "Chocolate",
         "Yes",
         "8.2",
         "7.1",
         "15.3"
        ]
       ],
       "shape": {
        "columns": 6,
        "rows": 9
       }
      },
      "text/html": [
       "<div>\n",
       "<style scoped>\n",
       "    .dataframe tbody tr th:only-of-type {\n",
       "        vertical-align: middle;\n",
       "    }\n",
       "\n",
       "    .dataframe tbody tr th {\n",
       "        vertical-align: top;\n",
       "    }\n",
       "\n",
       "    .dataframe thead th {\n",
       "        text-align: right;\n",
       "    }\n",
       "</style>\n",
       "<table border=\"1\" class=\"dataframe\">\n",
       "  <thead>\n",
       "    <tr style=\"text-align: right;\">\n",
       "      <th></th>\n",
       "      <th>Flavor</th>\n",
       "      <th>Base Flavor</th>\n",
       "      <th>Liked</th>\n",
       "      <th>Flavor Rating</th>\n",
       "      <th>Texture Rating</th>\n",
       "      <th>Total Rating</th>\n",
       "    </tr>\n",
       "  </thead>\n",
       "  <tbody>\n",
       "    <tr>\n",
       "      <th>0</th>\n",
       "      <td>Mint Chocolate Chip</td>\n",
       "      <td>Vanilla</td>\n",
       "      <td>Yes</td>\n",
       "      <td>10.0</td>\n",
       "      <td>8.0</td>\n",
       "      <td>18.0</td>\n",
       "    </tr>\n",
       "    <tr>\n",
       "      <th>1</th>\n",
       "      <td>Chocolate</td>\n",
       "      <td>Chocolate</td>\n",
       "      <td>Yes</td>\n",
       "      <td>8.8</td>\n",
       "      <td>7.6</td>\n",
       "      <td>16.6</td>\n",
       "    </tr>\n",
       "    <tr>\n",
       "      <th>2</th>\n",
       "      <td>Vanilla</td>\n",
       "      <td>Vanilla</td>\n",
       "      <td>No</td>\n",
       "      <td>4.7</td>\n",
       "      <td>5.0</td>\n",
       "      <td>9.7</td>\n",
       "    </tr>\n",
       "    <tr>\n",
       "      <th>3</th>\n",
       "      <td>Cookie Dough</td>\n",
       "      <td>Vanilla</td>\n",
       "      <td>Yes</td>\n",
       "      <td>6.9</td>\n",
       "      <td>6.5</td>\n",
       "      <td>13.4</td>\n",
       "    </tr>\n",
       "    <tr>\n",
       "      <th>4</th>\n",
       "      <td>Rocky Road</td>\n",
       "      <td>Chocolate</td>\n",
       "      <td>Yes</td>\n",
       "      <td>8.2</td>\n",
       "      <td>7.0</td>\n",
       "      <td>15.2</td>\n",
       "    </tr>\n",
       "    <tr>\n",
       "      <th>5</th>\n",
       "      <td>Pistachio</td>\n",
       "      <td>Vanilla</td>\n",
       "      <td>No</td>\n",
       "      <td>2.3</td>\n",
       "      <td>3.4</td>\n",
       "      <td>5.7</td>\n",
       "    </tr>\n",
       "    <tr>\n",
       "      <th>6</th>\n",
       "      <td>Cake Batter</td>\n",
       "      <td>Vanilla</td>\n",
       "      <td>Yes</td>\n",
       "      <td>6.5</td>\n",
       "      <td>6.0</td>\n",
       "      <td>12.5</td>\n",
       "    </tr>\n",
       "    <tr>\n",
       "      <th>7</th>\n",
       "      <td>Neapolitan</td>\n",
       "      <td>Vanilla</td>\n",
       "      <td>No</td>\n",
       "      <td>3.8</td>\n",
       "      <td>5.0</td>\n",
       "      <td>8.8</td>\n",
       "    </tr>\n",
       "    <tr>\n",
       "      <th>8</th>\n",
       "      <td>Chocolte Fudge Brownie</td>\n",
       "      <td>Chocolate</td>\n",
       "      <td>Yes</td>\n",
       "      <td>8.2</td>\n",
       "      <td>7.1</td>\n",
       "      <td>15.3</td>\n",
       "    </tr>\n",
       "  </tbody>\n",
       "</table>\n",
       "</div>"
      ],
      "text/plain": [
       "                   Flavor Base Flavor Liked  Flavor Rating  Texture Rating  \\\n",
       "0     Mint Chocolate Chip     Vanilla   Yes           10.0             8.0   \n",
       "1               Chocolate   Chocolate   Yes            8.8             7.6   \n",
       "2                 Vanilla     Vanilla    No            4.7             5.0   \n",
       "3            Cookie Dough     Vanilla   Yes            6.9             6.5   \n",
       "4              Rocky Road   Chocolate   Yes            8.2             7.0   \n",
       "5               Pistachio     Vanilla    No            2.3             3.4   \n",
       "6             Cake Batter     Vanilla   Yes            6.5             6.0   \n",
       "7              Neapolitan     Vanilla    No            3.8             5.0   \n",
       "8  Chocolte Fudge Brownie   Chocolate   Yes            8.2             7.1   \n",
       "\n",
       "   Total Rating  \n",
       "0          18.0  \n",
       "1          16.6  \n",
       "2           9.7  \n",
       "3          13.4  \n",
       "4          15.2  \n",
       "5           5.7  \n",
       "6          12.5  \n",
       "7           8.8  \n",
       "8          15.3  "
      ]
     },
     "execution_count": 2,
     "metadata": {},
     "output_type": "execute_result"
    }
   ],
   "source": [
    "import pandas as pd\n",
    "df = pd.read_csv('Flavors.csv')\n",
    "df"
   ]
  },
  {
   "cell_type": "code",
   "execution_count": 7,
   "id": "44cdcb8f",
   "metadata": {},
   "outputs": [
    {
     "data": {
      "application/vnd.microsoft.datawrangler.viewer.v0+json": {
       "columns": [
        {
         "name": "Base Flavor",
         "rawType": "object",
         "type": "string"
        },
        {
         "name": "Flavor Rating",
         "rawType": "float64",
         "type": "float"
        },
        {
         "name": "Texture Rating",
         "rawType": "float64",
         "type": "float"
        },
        {
         "name": "Total Rating",
         "rawType": "float64",
         "type": "float"
        }
       ],
       "ref": "9cd151c9-17e0-4b72-8533-f3a2f7336dab",
       "rows": [
        [
         "Chocolate",
         "8.4",
         "7.233333333333333",
         "15.700000000000001"
        ],
        [
         "Vanilla",
         "5.7",
         "5.6499999999999995",
         "11.35"
        ]
       ],
       "shape": {
        "columns": 3,
        "rows": 2
       }
      },
      "text/html": [
       "<div>\n",
       "<style scoped>\n",
       "    .dataframe tbody tr th:only-of-type {\n",
       "        vertical-align: middle;\n",
       "    }\n",
       "\n",
       "    .dataframe tbody tr th {\n",
       "        vertical-align: top;\n",
       "    }\n",
       "\n",
       "    .dataframe thead th {\n",
       "        text-align: right;\n",
       "    }\n",
       "</style>\n",
       "<table border=\"1\" class=\"dataframe\">\n",
       "  <thead>\n",
       "    <tr style=\"text-align: right;\">\n",
       "      <th></th>\n",
       "      <th>Flavor Rating</th>\n",
       "      <th>Texture Rating</th>\n",
       "      <th>Total Rating</th>\n",
       "    </tr>\n",
       "    <tr>\n",
       "      <th>Base Flavor</th>\n",
       "      <th></th>\n",
       "      <th></th>\n",
       "      <th></th>\n",
       "    </tr>\n",
       "  </thead>\n",
       "  <tbody>\n",
       "    <tr>\n",
       "      <th>Chocolate</th>\n",
       "      <td>8.4</td>\n",
       "      <td>7.233333</td>\n",
       "      <td>15.70</td>\n",
       "    </tr>\n",
       "    <tr>\n",
       "      <th>Vanilla</th>\n",
       "      <td>5.7</td>\n",
       "      <td>5.650000</td>\n",
       "      <td>11.35</td>\n",
       "    </tr>\n",
       "  </tbody>\n",
       "</table>\n",
       "</div>"
      ],
      "text/plain": [
       "             Flavor Rating  Texture Rating  Total Rating\n",
       "Base Flavor                                             \n",
       "Chocolate              8.4        7.233333         15.70\n",
       "Vanilla                5.7        5.650000         11.35"
      ]
     },
     "execution_count": 7,
     "metadata": {},
     "output_type": "execute_result"
    }
   ],
   "source": [
    "df2 = df.groupby('Base Flavor')\n",
    "df2.mean()"
   ]
  },
  {
   "cell_type": "code",
   "execution_count": 10,
   "id": "4256aa26",
   "metadata": {},
   "outputs": [
    {
     "data": {
      "application/vnd.microsoft.datawrangler.viewer.v0+json": {
       "columns": [
        {
         "name": "Base Flavor",
         "rawType": "object",
         "type": "string"
        },
        {
         "name": "('Flavor Rating', 'sum')",
         "rawType": "float64",
         "type": "float"
        },
        {
         "name": "('Flavor Rating', 'count')",
         "rawType": "int64",
         "type": "integer"
        },
        {
         "name": "('Flavor Rating', 'mean')",
         "rawType": "float64",
         "type": "float"
        },
        {
         "name": "('Flavor Rating', 'max')",
         "rawType": "float64",
         "type": "float"
        },
        {
         "name": "('Texture Rating', 'sum')",
         "rawType": "float64",
         "type": "float"
        },
        {
         "name": "('Texture Rating', 'count')",
         "rawType": "int64",
         "type": "integer"
        },
        {
         "name": "('Texture Rating', 'mean')",
         "rawType": "float64",
         "type": "float"
        },
        {
         "name": "('Texture Rating', 'max')",
         "rawType": "float64",
         "type": "float"
        }
       ],
       "ref": "3a53bfea-14e6-4ed4-8585-bdc7bbef336a",
       "rows": [
        [
         "Chocolate",
         "25.2",
         "3",
         "8.4",
         "8.8",
         "21.7",
         "3",
         "7.233333333333333",
         "7.6"
        ],
        [
         "Vanilla",
         "34.2",
         "6",
         "5.7",
         "10.0",
         "33.9",
         "6",
         "5.6499999999999995",
         "8.0"
        ]
       ],
       "shape": {
        "columns": 8,
        "rows": 2
       }
      },
      "text/html": [
       "<div>\n",
       "<style scoped>\n",
       "    .dataframe tbody tr th:only-of-type {\n",
       "        vertical-align: middle;\n",
       "    }\n",
       "\n",
       "    .dataframe tbody tr th {\n",
       "        vertical-align: top;\n",
       "    }\n",
       "\n",
       "    .dataframe thead tr th {\n",
       "        text-align: left;\n",
       "    }\n",
       "\n",
       "    .dataframe thead tr:last-of-type th {\n",
       "        text-align: right;\n",
       "    }\n",
       "</style>\n",
       "<table border=\"1\" class=\"dataframe\">\n",
       "  <thead>\n",
       "    <tr>\n",
       "      <th></th>\n",
       "      <th colspan=\"4\" halign=\"left\">Flavor Rating</th>\n",
       "      <th colspan=\"4\" halign=\"left\">Texture Rating</th>\n",
       "    </tr>\n",
       "    <tr>\n",
       "      <th></th>\n",
       "      <th>sum</th>\n",
       "      <th>count</th>\n",
       "      <th>mean</th>\n",
       "      <th>max</th>\n",
       "      <th>sum</th>\n",
       "      <th>count</th>\n",
       "      <th>mean</th>\n",
       "      <th>max</th>\n",
       "    </tr>\n",
       "    <tr>\n",
       "      <th>Base Flavor</th>\n",
       "      <th></th>\n",
       "      <th></th>\n",
       "      <th></th>\n",
       "      <th></th>\n",
       "      <th></th>\n",
       "      <th></th>\n",
       "      <th></th>\n",
       "      <th></th>\n",
       "    </tr>\n",
       "  </thead>\n",
       "  <tbody>\n",
       "    <tr>\n",
       "      <th>Chocolate</th>\n",
       "      <td>25.2</td>\n",
       "      <td>3</td>\n",
       "      <td>8.4</td>\n",
       "      <td>8.8</td>\n",
       "      <td>21.7</td>\n",
       "      <td>3</td>\n",
       "      <td>7.233333</td>\n",
       "      <td>7.6</td>\n",
       "    </tr>\n",
       "    <tr>\n",
       "      <th>Vanilla</th>\n",
       "      <td>34.2</td>\n",
       "      <td>6</td>\n",
       "      <td>5.7</td>\n",
       "      <td>10.0</td>\n",
       "      <td>33.9</td>\n",
       "      <td>6</td>\n",
       "      <td>5.650000</td>\n",
       "      <td>8.0</td>\n",
       "    </tr>\n",
       "  </tbody>\n",
       "</table>\n",
       "</div>"
      ],
      "text/plain": [
       "            Flavor Rating                  Texture Rating                     \n",
       "                      sum count mean   max            sum count      mean  max\n",
       "Base Flavor                                                                   \n",
       "Chocolate            25.2     3  8.4   8.8           21.7     3  7.233333  7.6\n",
       "Vanilla              34.2     6  5.7  10.0           33.9     6  5.650000  8.0"
      ]
     },
     "execution_count": 10,
     "metadata": {},
     "output_type": "execute_result"
    }
   ],
   "source": [
    "#df2.sum()\n",
    "df.groupby('Base Flavor').agg({'Flavor Rating':['sum','count','mean','max'],\n",
    "                               'Texture Rating':['sum','count','mean','max']})"
   ]
  },
  {
   "cell_type": "code",
   "execution_count": 12,
   "id": "4693195c",
   "metadata": {},
   "outputs": [
    {
     "data": {
      "application/vnd.microsoft.datawrangler.viewer.v0+json": {
       "columns": [
        {
         "name": "('Base Flavor', 'Liked')",
         "rawType": "object",
         "type": "string"
        },
        {
         "name": "('Flavor Rating', 'sum')",
         "rawType": "float64",
         "type": "float"
        },
        {
         "name": "('Flavor Rating', 'count')",
         "rawType": "int64",
         "type": "integer"
        },
        {
         "name": "('Flavor Rating', 'mean')",
         "rawType": "float64",
         "type": "float"
        },
        {
         "name": "('Flavor Rating', 'max')",
         "rawType": "float64",
         "type": "float"
        }
       ],
       "ref": "1331ec8b-4ec8-4da2-a73a-ff4eb6a285e2",
       "rows": [
        [
         "('Chocolate', 'Yes')",
         "25.2",
         "3",
         "8.4",
         "8.8"
        ],
        [
         "('Vanilla', 'No')",
         "10.8",
         "3",
         "3.6",
         "4.7"
        ],
        [
         "('Vanilla', 'Yes')",
         "23.4",
         "3",
         "7.8",
         "10.0"
        ]
       ],
       "shape": {
        "columns": 4,
        "rows": 3
       }
      },
      "text/html": [
       "<div>\n",
       "<style scoped>\n",
       "    .dataframe tbody tr th:only-of-type {\n",
       "        vertical-align: middle;\n",
       "    }\n",
       "\n",
       "    .dataframe tbody tr th {\n",
       "        vertical-align: top;\n",
       "    }\n",
       "\n",
       "    .dataframe thead tr th {\n",
       "        text-align: left;\n",
       "    }\n",
       "\n",
       "    .dataframe thead tr:last-of-type th {\n",
       "        text-align: right;\n",
       "    }\n",
       "</style>\n",
       "<table border=\"1\" class=\"dataframe\">\n",
       "  <thead>\n",
       "    <tr>\n",
       "      <th></th>\n",
       "      <th></th>\n",
       "      <th colspan=\"4\" halign=\"left\">Flavor Rating</th>\n",
       "    </tr>\n",
       "    <tr>\n",
       "      <th></th>\n",
       "      <th></th>\n",
       "      <th>sum</th>\n",
       "      <th>count</th>\n",
       "      <th>mean</th>\n",
       "      <th>max</th>\n",
       "    </tr>\n",
       "    <tr>\n",
       "      <th>Base Flavor</th>\n",
       "      <th>Liked</th>\n",
       "      <th></th>\n",
       "      <th></th>\n",
       "      <th></th>\n",
       "      <th></th>\n",
       "    </tr>\n",
       "  </thead>\n",
       "  <tbody>\n",
       "    <tr>\n",
       "      <th>Chocolate</th>\n",
       "      <th>Yes</th>\n",
       "      <td>25.2</td>\n",
       "      <td>3</td>\n",
       "      <td>8.4</td>\n",
       "      <td>8.8</td>\n",
       "    </tr>\n",
       "    <tr>\n",
       "      <th rowspan=\"2\" valign=\"top\">Vanilla</th>\n",
       "      <th>No</th>\n",
       "      <td>10.8</td>\n",
       "      <td>3</td>\n",
       "      <td>3.6</td>\n",
       "      <td>4.7</td>\n",
       "    </tr>\n",
       "    <tr>\n",
       "      <th>Yes</th>\n",
       "      <td>23.4</td>\n",
       "      <td>3</td>\n",
       "      <td>7.8</td>\n",
       "      <td>10.0</td>\n",
       "    </tr>\n",
       "  </tbody>\n",
       "</table>\n",
       "</div>"
      ],
      "text/plain": [
       "                  Flavor Rating                 \n",
       "                            sum count mean   max\n",
       "Base Flavor Liked                               \n",
       "Chocolate   Yes            25.2     3  8.4   8.8\n",
       "Vanilla     No             10.8     3  3.6   4.7\n",
       "            Yes            23.4     3  7.8  10.0"
      ]
     },
     "execution_count": 12,
     "metadata": {},
     "output_type": "execute_result"
    }
   ],
   "source": [
    "#df2.sum()\n",
    "df.groupby(['Base Flavor','Liked']).agg({'Flavor Rating':['sum','count','mean','max']})"
   ]
  },
  {
   "cell_type": "code",
   "execution_count": 13,
   "id": "8eddc345",
   "metadata": {},
   "outputs": [
    {
     "data": {
      "application/vnd.microsoft.datawrangler.viewer.v0+json": {
       "columns": [
        {
         "name": "index",
         "rawType": "object",
         "type": "string"
        },
        {
         "name": "Flavor Rating",
         "rawType": "float64",
         "type": "float"
        },
        {
         "name": "Texture Rating",
         "rawType": "float64",
         "type": "float"
        },
        {
         "name": "Total Rating",
         "rawType": "float64",
         "type": "float"
        }
       ],
       "ref": "4330fb17-699a-42ff-aa8e-66ac9746f696",
       "rows": [
        [
         "count",
         "9.0",
         "9.0",
         "9.0"
        ],
        [
         "mean",
         "6.6000000000000005",
         "6.177777777777778",
         "12.8"
        ],
        [
         "std",
         "2.5387004549572207",
         "1.4788321217922082",
         "4.030508652763321"
        ],
        [
         "min",
         "2.3",
         "3.4",
         "5.7"
        ],
        [
         "25%",
         "4.7",
         "5.0",
         "9.7"
        ],
        [
         "50%",
         "6.9",
         "6.5",
         "13.4"
        ],
        [
         "75%",
         "8.2",
         "7.1",
         "15.3"
        ],
        [
         "max",
         "10.0",
         "8.0",
         "18.0"
        ]
       ],
       "shape": {
        "columns": 3,
        "rows": 8
       }
      },
      "text/html": [
       "<div>\n",
       "<style scoped>\n",
       "    .dataframe tbody tr th:only-of-type {\n",
       "        vertical-align: middle;\n",
       "    }\n",
       "\n",
       "    .dataframe tbody tr th {\n",
       "        vertical-align: top;\n",
       "    }\n",
       "\n",
       "    .dataframe thead th {\n",
       "        text-align: right;\n",
       "    }\n",
       "</style>\n",
       "<table border=\"1\" class=\"dataframe\">\n",
       "  <thead>\n",
       "    <tr style=\"text-align: right;\">\n",
       "      <th></th>\n",
       "      <th>Flavor Rating</th>\n",
       "      <th>Texture Rating</th>\n",
       "      <th>Total Rating</th>\n",
       "    </tr>\n",
       "  </thead>\n",
       "  <tbody>\n",
       "    <tr>\n",
       "      <th>count</th>\n",
       "      <td>9.0000</td>\n",
       "      <td>9.000000</td>\n",
       "      <td>9.000000</td>\n",
       "    </tr>\n",
       "    <tr>\n",
       "      <th>mean</th>\n",
       "      <td>6.6000</td>\n",
       "      <td>6.177778</td>\n",
       "      <td>12.800000</td>\n",
       "    </tr>\n",
       "    <tr>\n",
       "      <th>std</th>\n",
       "      <td>2.5387</td>\n",
       "      <td>1.478832</td>\n",
       "      <td>4.030509</td>\n",
       "    </tr>\n",
       "    <tr>\n",
       "      <th>min</th>\n",
       "      <td>2.3000</td>\n",
       "      <td>3.400000</td>\n",
       "      <td>5.700000</td>\n",
       "    </tr>\n",
       "    <tr>\n",
       "      <th>25%</th>\n",
       "      <td>4.7000</td>\n",
       "      <td>5.000000</td>\n",
       "      <td>9.700000</td>\n",
       "    </tr>\n",
       "    <tr>\n",
       "      <th>50%</th>\n",
       "      <td>6.9000</td>\n",
       "      <td>6.500000</td>\n",
       "      <td>13.400000</td>\n",
       "    </tr>\n",
       "    <tr>\n",
       "      <th>75%</th>\n",
       "      <td>8.2000</td>\n",
       "      <td>7.100000</td>\n",
       "      <td>15.300000</td>\n",
       "    </tr>\n",
       "    <tr>\n",
       "      <th>max</th>\n",
       "      <td>10.0000</td>\n",
       "      <td>8.000000</td>\n",
       "      <td>18.000000</td>\n",
       "    </tr>\n",
       "  </tbody>\n",
       "</table>\n",
       "</div>"
      ],
      "text/plain": [
       "       Flavor Rating  Texture Rating  Total Rating\n",
       "count         9.0000        9.000000      9.000000\n",
       "mean          6.6000        6.177778     12.800000\n",
       "std           2.5387        1.478832      4.030509\n",
       "min           2.3000        3.400000      5.700000\n",
       "25%           4.7000        5.000000      9.700000\n",
       "50%           6.9000        6.500000     13.400000\n",
       "75%           8.2000        7.100000     15.300000\n",
       "max          10.0000        8.000000     18.000000"
      ]
     },
     "execution_count": 13,
     "metadata": {},
     "output_type": "execute_result"
    }
   ],
   "source": [
    "df.describe()"
   ]
  },
  {
   "cell_type": "code",
   "execution_count": null,
   "id": "74179f18",
   "metadata": {},
   "outputs": [],
   "source": []
  }
 ],
 "metadata": {
  "kernelspec": {
   "display_name": "Python 3",
   "language": "python",
   "name": "python3"
  },
  "language_info": {
   "codemirror_mode": {
    "name": "ipython",
    "version": 3
   },
   "file_extension": ".py",
   "mimetype": "text/x-python",
   "name": "python",
   "nbconvert_exporter": "python",
   "pygments_lexer": "ipython3",
   "version": "3.8.0"
  }
 },
 "nbformat": 4,
 "nbformat_minor": 5
}
