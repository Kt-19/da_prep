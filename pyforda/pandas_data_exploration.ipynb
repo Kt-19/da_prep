{
 "cells": [
  {
   "cell_type": "code",
   "execution_count": null,
   "id": "9bf85f56",
   "metadata": {},
   "outputs": [],
   "source": [
    "import pandas as pd\n",
    "import matplotlib.pyplot as plt\n",
    "import seaborn as sns\n",
    "\n",
    "df = pd.read_csv('world_population.csv')\n",
    "df"
   ]
  },
  {
   "cell_type": "code",
   "execution_count": null,
   "id": "386faec1",
   "metadata": {},
   "outputs": [],
   "source": [
    "pd.set_option('display.float_format', lambda x: '%.2f' % x)\n",
    "df"
   ]
  },
  {
   "cell_type": "code",
   "execution_count": null,
   "id": "2f697cf8",
   "metadata": {},
   "outputs": [],
   "source": [
    "#df.info()\n",
    "df.notnull().sum()\n",
    "df.isnull().sum()"
   ]
  },
  {
   "cell_type": "code",
   "execution_count": null,
   "id": "86629569",
   "metadata": {},
   "outputs": [],
   "source": [
    "df.describe()"
   ]
  },
  {
   "cell_type": "code",
   "execution_count": null,
   "id": "0a60887f",
   "metadata": {},
   "outputs": [],
   "source": [
    "df.nunique()"
   ]
  },
  {
   "cell_type": "code",
   "execution_count": null,
   "id": "0754fcec",
   "metadata": {},
   "outputs": [],
   "source": [
    "df.sort_values(by='World Population Percentage', ascending=False).head(10)"
   ]
  },
  {
   "cell_type": "code",
   "execution_count": null,
   "id": "bc682601",
   "metadata": {},
   "outputs": [],
   "source": [
    "df.corr()"
   ]
  },
  {
   "cell_type": "code",
   "execution_count": null,
   "id": "c0744467",
   "metadata": {},
   "outputs": [],
   "source": [
    "sns.heatmap(df.corr(),annot=True)\n",
    "\n",
    "plt.rcParams['figure.figsize'] = (20,10)\n",
    "plt.show()"
   ]
  },
  {
   "cell_type": "code",
   "execution_count": null,
   "id": "51fe77d2",
   "metadata": {},
   "outputs": [],
   "source": [
    "df.groupby('Continent').mean().sort_values(by='2022 Population', ascending=False)  "
   ]
  },
  {
   "cell_type": "code",
   "execution_count": null,
   "id": "4c4a8fa9",
   "metadata": {},
   "outputs": [],
   "source": [
    "#df[df['Continent'].str.contains('Asia')]\n",
    "df[df['Continent']== 'Asia']"
   ]
  },
  {
   "cell_type": "code",
   "execution_count": null,
   "id": "9e330035",
   "metadata": {},
   "outputs": [],
   "source": [
    "df.columns"
   ]
  },
  {
   "cell_type": "code",
   "execution_count": null,
   "id": "68739a05",
   "metadata": {},
   "outputs": [],
   "source": [
    "df2 = df.groupby('Continent')[['1970 Population',\n",
    "       '1980 Population', '1990 Population', '2000 Population',\n",
    "       '2010 Population', '2015 Population', '2020 Population',\n",
    "       '2022 Population']].mean().sort_values(by='2022 Population', ascending=False)\n",
    "df2"
   ]
  },
  {
   "cell_type": "code",
   "execution_count": null,
   "id": "d5c7dea1",
   "metadata": {},
   "outputs": [],
   "source": [
    "df2.plot()\n",
    "df3 = df2.transpose()"
   ]
  },
  {
   "cell_type": "code",
   "execution_count": null,
   "id": "e7d41930",
   "metadata": {},
   "outputs": [],
   "source": [
    "df3.plot()"
   ]
  },
  {
   "cell_type": "code",
   "execution_count": null,
   "id": "c7349522",
   "metadata": {},
   "outputs": [],
   "source": [
    "df.boxplot(figsize=(15,7))\n"
   ]
  },
  {
   "cell_type": "code",
   "execution_count": null,
   "id": "35f6a5ce",
   "metadata": {},
   "outputs": [],
   "source": [
    "#df.dtypes\n",
    "df.select_dtypes(include='float')"
   ]
  }
 ],
 "metadata": {
  "kernelspec": {
   "display_name": "Python 3",
   "language": "python",
   "name": "python3"
  },
  "language_info": {
   "codemirror_mode": {
    "name": "ipython",
    "version": 3
   },
   "file_extension": ".py",
   "mimetype": "text/x-python",
   "name": "python",
   "nbconvert_exporter": "python",
   "pygments_lexer": "ipython3",
   "version": "3.8.0"
  }
 },
 "nbformat": 4,
 "nbformat_minor": 5
}
